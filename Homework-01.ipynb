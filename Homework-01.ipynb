{
 "cells": [
  {
   "cell_type": "code",
   "execution_count": 1,
   "metadata": {},
   "outputs": [
    {
     "name": "stdout",
     "output_type": "stream",
     "text": [
      "[0, 1, 4, 9, 16, 25, 36, 49, 64, 81]\n",
      "[0, 1, 4, 9, 16, 25, 36, 49, 64, 81, 100, 121, 144, 169, 196, 225, 256, 289, 324, 361, 400, 441, 484, 529, 576, 625, 676, 729, 784, 841, 900, 961, 1024, 1089, 1156, 1225, 1296, 1369, 1444, 1521, 1600, 1681, 1764, 1849, 1936, 2025, 2116, 2209, 2304, 2401, 2500, 2601, 2704, 2809, 2916, 3025, 3136, 3249, 3364, 3481, 3600, 3721, 3844, 3969, 4096, 4225, 4356, 4489, 4624, 4761, 4900, 5041, 5184, 5329, 5476, 5625, 5776, 5929, 6084, 6241, 6400, 6561, 6724, 6889, 7056, 7225, 7396, 7569, 7744, 7921, 8100, 8281, 8464, 8649, 8836, 9025, 9216, 9409, 9604, 9801]\n",
      "[]\n"
     ]
    }
   ],
   "source": [
    "# easy\n",
    "\n",
    "def square_list(input_list):\n",
    "    new_list=[]\n",
    "    for i in input_list:\n",
    "        new_list.append(i ** 2)\n",
    "    return new_list\n",
    "\n",
    "test_list1 = list(range(10))\n",
    "test_list2 = list(range(100))\n",
    "test_list3 = list()\n",
    "\n",
    "print(square_list(test_list1))\n",
    "print(square_list(test_list2))\n",
    "print(square_list(test_list3))"
   ]
  },
  {
   "cell_type": "code",
   "execution_count": 2,
   "metadata": {},
   "outputs": [
    {
     "name": "stdout",
     "output_type": "stream",
     "text": [
      "124 ns ± 8.98 ns per loop (mean ± std. dev. of 7 runs, 10000000 loops each)\n"
     ]
    }
   ],
   "source": [
    "%%timeit\n",
    "\n",
    "def square_list(input_list):\n",
    "    new_list=[]\n",
    "    for i in input_list:\n",
    "        new_list.append(i ** 2)\n",
    "    return new_list\n"
   ]
  },
  {
   "cell_type": "code",
   "execution_count": 3,
   "metadata": {},
   "outputs": [
    {
     "data": {
      "text/plain": [
       "[0, 1, 4, 9, 16, 25, 36, 49, 64, 81]"
      ]
     },
     "execution_count": 3,
     "metadata": {},
     "output_type": "execute_result"
    }
   ],
   "source": [
    "# normal\n",
    "\n",
    "def square_list (x):\n",
    "    return x ** 2\n",
    "\n",
    "test_list = list(range(10))\n",
    "#test_list = list(range(100))\n",
    "#test_list = list()\n",
    "\n",
    "list(map(square_list,test_list))\n"
   ]
  },
  {
   "cell_type": "code",
   "execution_count": 4,
   "metadata": {},
   "outputs": [
    {
     "name": "stdout",
     "output_type": "stream",
     "text": [
      "115 ns ± 9.91 ns per loop (mean ± std. dev. of 7 runs, 10000000 loops each)\n"
     ]
    }
   ],
   "source": [
    "%%timeit\n",
    "\n",
    "def square_list (x):\n",
    "    return x ** 2"
   ]
  },
  {
   "cell_type": "code",
   "execution_count": 5,
   "metadata": {},
   "outputs": [
    {
     "data": {
      "text/plain": [
       "{'mean': 3.43, 'median': 3}"
      ]
     },
     "execution_count": 5,
     "metadata": {},
     "output_type": "execute_result"
    }
   ],
   "source": [
    "# hard\n",
    "\n",
    "def dict_list(input_list):\n",
    "    new_dict = {\"mean\": \"\", \"median\": \"\"}\n",
    "    input_list = sorted(input_list)\n",
    "    # mean\n",
    "    sum = 0\n",
    "    for i in input_list:\n",
    "        sum = sum + i\n",
    "    mean = sum /len(input_list)    \n",
    "    new_dict[\"mean\"] = round(mean,2)\n",
    "    \n",
    "    # median\n",
    "    index = int(len(input_list) / 2)\n",
    "    if len(input_list) % 2 > 0:\n",
    "        index = int(index + 0.5)\n",
    "    \n",
    "    new_dict[\"median\"] = input_list[index]\n",
    "    \n",
    "    # moda\n",
    "    \n",
    "    \n",
    "    return(new_dict)\n",
    "\n",
    "test_list = [0,1,1,10,5,4,3]\n",
    "dict_list(test_list)"
   ]
  }
 ],
 "metadata": {
  "celltoolbar": "Raw Cell Format",
  "kernelspec": {
   "display_name": "Python 3",
   "language": "python",
   "name": "python3"
  },
  "language_info": {
   "codemirror_mode": {
    "name": "ipython",
    "version": 3
   },
   "file_extension": ".py",
   "mimetype": "text/x-python",
   "name": "python",
   "nbconvert_exporter": "python",
   "pygments_lexer": "ipython3",
   "version": "3.8.5"
  }
 },
 "nbformat": 4,
 "nbformat_minor": 4
}
